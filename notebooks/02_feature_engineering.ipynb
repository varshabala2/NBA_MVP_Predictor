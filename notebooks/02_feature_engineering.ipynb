{
 "cells": [
  {
   "cell_type": "markdown",
   "metadata": {},
   "source": [
    "## Step 1: Load player stats from SQLite database\n",
    "\n",
    "In this step, we connect to the SQLite database where all our ESPN-scraped player data (from 2002 to 2025) is stored.  \n",
    "We load the `player_season_stats` table into a pandas DataFrame called `df` so we can work with it."
   ]
  },
  {
   "cell_type": "code",
   "execution_count": 2,
   "metadata": {},
   "outputs": [
    {
     "data": {
      "text/html": [
       "<div>\n",
       "<style scoped>\n",
       "    .dataframe tbody tr th:only-of-type {\n",
       "        vertical-align: middle;\n",
       "    }\n",
       "\n",
       "    .dataframe tbody tr th {\n",
       "        vertical-align: top;\n",
       "    }\n",
       "\n",
       "    .dataframe thead th {\n",
       "        text-align: right;\n",
       "    }\n",
       "</style>\n",
       "<table border=\"1\" class=\"dataframe\">\n",
       "  <thead>\n",
       "    <tr style=\"text-align: right;\">\n",
       "      <th></th>\n",
       "      <th>RK</th>\n",
       "      <th>Name</th>\n",
       "      <th>POS</th>\n",
       "      <th>GP</th>\n",
       "      <th>MIN</th>\n",
       "      <th>PTS</th>\n",
       "      <th>FGM</th>\n",
       "      <th>FGA</th>\n",
       "      <th>FG%</th>\n",
       "      <th>3PM</th>\n",
       "      <th>...</th>\n",
       "      <th>FTA</th>\n",
       "      <th>FT%</th>\n",
       "      <th>REB</th>\n",
       "      <th>AST</th>\n",
       "      <th>STL</th>\n",
       "      <th>BLK</th>\n",
       "      <th>TO</th>\n",
       "      <th>DD2</th>\n",
       "      <th>TD3</th>\n",
       "      <th>season</th>\n",
       "    </tr>\n",
       "  </thead>\n",
       "  <tbody>\n",
       "    <tr>\n",
       "      <th>0</th>\n",
       "      <td>-</td>\n",
       "      <td>Allen IversonPHI</td>\n",
       "      <td>SG</td>\n",
       "      <td>60</td>\n",
       "      <td>43.7</td>\n",
       "      <td>31.4</td>\n",
       "      <td>11.1</td>\n",
       "      <td>27.8</td>\n",
       "      <td>39.8</td>\n",
       "      <td>1.3</td>\n",
       "      <td>...</td>\n",
       "      <td>9.8</td>\n",
       "      <td>81.2</td>\n",
       "      <td>4.5</td>\n",
       "      <td>5.5</td>\n",
       "      <td>2.8</td>\n",
       "      <td>0.2</td>\n",
       "      <td>4.0</td>\n",
       "      <td>4</td>\n",
       "      <td>1</td>\n",
       "      <td>2002</td>\n",
       "    </tr>\n",
       "    <tr>\n",
       "      <th>1</th>\n",
       "      <td>-</td>\n",
       "      <td>Shaquille O'NealLAL</td>\n",
       "      <td>C</td>\n",
       "      <td>67</td>\n",
       "      <td>36.1</td>\n",
       "      <td>27.2</td>\n",
       "      <td>10.6</td>\n",
       "      <td>18.3</td>\n",
       "      <td>57.9</td>\n",
       "      <td>0.0</td>\n",
       "      <td>...</td>\n",
       "      <td>10.7</td>\n",
       "      <td>55.5</td>\n",
       "      <td>10.7</td>\n",
       "      <td>3.0</td>\n",
       "      <td>0.6</td>\n",
       "      <td>2.0</td>\n",
       "      <td>2.6</td>\n",
       "      <td>40</td>\n",
       "      <td>0</td>\n",
       "      <td>2002</td>\n",
       "    </tr>\n",
       "    <tr>\n",
       "      <th>2</th>\n",
       "      <td>-</td>\n",
       "      <td>Paul PierceBOS</td>\n",
       "      <td>SF</td>\n",
       "      <td>82</td>\n",
       "      <td>40.3</td>\n",
       "      <td>26.1</td>\n",
       "      <td>8.6</td>\n",
       "      <td>19.5</td>\n",
       "      <td>44.2</td>\n",
       "      <td>2.6</td>\n",
       "      <td>...</td>\n",
       "      <td>7.8</td>\n",
       "      <td>80.9</td>\n",
       "      <td>6.9</td>\n",
       "      <td>3.2</td>\n",
       "      <td>1.9</td>\n",
       "      <td>1.0</td>\n",
       "      <td>2.9</td>\n",
       "      <td>17</td>\n",
       "      <td>0</td>\n",
       "      <td>2002</td>\n",
       "    </tr>\n",
       "    <tr>\n",
       "      <th>3</th>\n",
       "      <td>-</td>\n",
       "      <td>Tracy McGradyORL</td>\n",
       "      <td>SG</td>\n",
       "      <td>76</td>\n",
       "      <td>38.3</td>\n",
       "      <td>25.6</td>\n",
       "      <td>9.4</td>\n",
       "      <td>20.9</td>\n",
       "      <td>45.1</td>\n",
       "      <td>1.4</td>\n",
       "      <td>...</td>\n",
       "      <td>7.3</td>\n",
       "      <td>74.8</td>\n",
       "      <td>7.9</td>\n",
       "      <td>5.3</td>\n",
       "      <td>1.6</td>\n",
       "      <td>1.0</td>\n",
       "      <td>2.5</td>\n",
       "      <td>24</td>\n",
       "      <td>1</td>\n",
       "      <td>2002</td>\n",
       "    </tr>\n",
       "    <tr>\n",
       "      <th>4</th>\n",
       "      <td>-</td>\n",
       "      <td>Tim DuncanSA</td>\n",
       "      <td>C</td>\n",
       "      <td>82</td>\n",
       "      <td>40.6</td>\n",
       "      <td>25.5</td>\n",
       "      <td>9.3</td>\n",
       "      <td>18.3</td>\n",
       "      <td>50.8</td>\n",
       "      <td>0.0</td>\n",
       "      <td>...</td>\n",
       "      <td>8.5</td>\n",
       "      <td>79.9</td>\n",
       "      <td>12.7</td>\n",
       "      <td>3.7</td>\n",
       "      <td>0.7</td>\n",
       "      <td>2.5</td>\n",
       "      <td>3.2</td>\n",
       "      <td>67</td>\n",
       "      <td>0</td>\n",
       "      <td>2002</td>\n",
       "    </tr>\n",
       "  </tbody>\n",
       "</table>\n",
       "<p>5 rows × 23 columns</p>\n",
       "</div>"
      ],
      "text/plain": [
       "  RK                 Name POS  GP   MIN   PTS   FGM   FGA   FG%  3PM  ...  \\\n",
       "0  -     Allen IversonPHI  SG  60  43.7  31.4  11.1  27.8  39.8  1.3  ...   \n",
       "1  -  Shaquille O'NealLAL   C  67  36.1  27.2  10.6  18.3  57.9  0.0  ...   \n",
       "2  -       Paul PierceBOS  SF  82  40.3  26.1   8.6  19.5  44.2  2.6  ...   \n",
       "3  -     Tracy McGradyORL  SG  76  38.3  25.6   9.4  20.9  45.1  1.4  ...   \n",
       "4  -         Tim DuncanSA   C  82  40.6  25.5   9.3  18.3  50.8  0.0  ...   \n",
       "\n",
       "    FTA   FT%   REB  AST  STL  BLK   TO DD2 TD3 season  \n",
       "0   9.8  81.2   4.5  5.5  2.8  0.2  4.0   4   1   2002  \n",
       "1  10.7  55.5  10.7  3.0  0.6  2.0  2.6  40   0   2002  \n",
       "2   7.8  80.9   6.9  3.2  1.9  1.0  2.9  17   0   2002  \n",
       "3   7.3  74.8   7.9  5.3  1.6  1.0  2.5  24   1   2002  \n",
       "4   8.5  79.9  12.7  3.7  0.7  2.5  3.2  67   0   2002  \n",
       "\n",
       "[5 rows x 23 columns]"
      ]
     },
     "execution_count": 2,
     "metadata": {},
     "output_type": "execute_result"
    }
   ],
   "source": [
    "import sqlite3\n",
    "import pandas as pd\n",
    "\n",
    "# Connect to your SQLite database\n",
    "conn = sqlite3.connect(\"../data/sqlite/nba_mvp.db\")\n",
    "\n",
    "# Load the player season stats table into a DataFrame\n",
    "df = pd.read_sql(\"SELECT * FROM player_season_stats\", conn)\n",
    "\n",
    "# Close the database connection\n",
    "conn.close()\n",
    "\n",
    "# Preview the first few rows\n",
    "df.head()"
   ]
  },
  {
   "cell_type": "markdown",
   "metadata": {},
   "source": [
    "## Step 2A: Split player_name and team_name from Name column\n",
    "\n",
    "In the raw data, the `Name` column combines both the player’s name and their team abbreviation (e.g., \"Allen IversonPHI\").  \n",
    "We split this into two new columns:\n",
    "- `player_name`: Just the player's name\n",
    "- `team_name`: 2–3 letter team abbreviation (used later to match team stats)\n"
   ]
  },
  {
   "cell_type": "code",
   "execution_count": 3,
   "metadata": {},
   "outputs": [
    {
     "data": {
      "text/html": [
       "<div>\n",
       "<style scoped>\n",
       "    .dataframe tbody tr th:only-of-type {\n",
       "        vertical-align: middle;\n",
       "    }\n",
       "\n",
       "    .dataframe tbody tr th {\n",
       "        vertical-align: top;\n",
       "    }\n",
       "\n",
       "    .dataframe thead th {\n",
       "        text-align: right;\n",
       "    }\n",
       "</style>\n",
       "<table border=\"1\" class=\"dataframe\">\n",
       "  <thead>\n",
       "    <tr style=\"text-align: right;\">\n",
       "      <th></th>\n",
       "      <th>Name</th>\n",
       "      <th>player_name</th>\n",
       "      <th>team_name</th>\n",
       "    </tr>\n",
       "  </thead>\n",
       "  <tbody>\n",
       "    <tr>\n",
       "      <th>0</th>\n",
       "      <td>Allen IversonPHI</td>\n",
       "      <td>Allen Iverson</td>\n",
       "      <td>PHI</td>\n",
       "    </tr>\n",
       "    <tr>\n",
       "      <th>1</th>\n",
       "      <td>Shaquille O'NealLAL</td>\n",
       "      <td>Shaquille O'Neal</td>\n",
       "      <td>LAL</td>\n",
       "    </tr>\n",
       "    <tr>\n",
       "      <th>2</th>\n",
       "      <td>Paul PierceBOS</td>\n",
       "      <td>Paul Pierce</td>\n",
       "      <td>BOS</td>\n",
       "    </tr>\n",
       "    <tr>\n",
       "      <th>3</th>\n",
       "      <td>Tracy McGradyORL</td>\n",
       "      <td>Tracy McGrady</td>\n",
       "      <td>ORL</td>\n",
       "    </tr>\n",
       "    <tr>\n",
       "      <th>4</th>\n",
       "      <td>Tim DuncanSA</td>\n",
       "      <td>Tim Duncan</td>\n",
       "      <td>SA</td>\n",
       "    </tr>\n",
       "    <tr>\n",
       "      <th>5</th>\n",
       "      <td>Kobe BryantLAL</td>\n",
       "      <td>Kobe Bryant</td>\n",
       "      <td>LAL</td>\n",
       "    </tr>\n",
       "    <tr>\n",
       "      <th>6</th>\n",
       "      <td>Vince CarterTOR</td>\n",
       "      <td>Vince Carter</td>\n",
       "      <td>TOR</td>\n",
       "    </tr>\n",
       "    <tr>\n",
       "      <th>7</th>\n",
       "      <td>Chris WebberSAC</td>\n",
       "      <td>Chris Webber</td>\n",
       "      <td>SAC</td>\n",
       "    </tr>\n",
       "    <tr>\n",
       "      <th>8</th>\n",
       "      <td>Dirk NowitzkiDAL</td>\n",
       "      <td>Dirk Nowitzki</td>\n",
       "      <td>DAL</td>\n",
       "    </tr>\n",
       "    <tr>\n",
       "      <th>9</th>\n",
       "      <td>Michael JordanWSH</td>\n",
       "      <td>Michael Jordan</td>\n",
       "      <td>WSH</td>\n",
       "    </tr>\n",
       "  </tbody>\n",
       "</table>\n",
       "</div>"
      ],
      "text/plain": [
       "                  Name       player_name team_name\n",
       "0     Allen IversonPHI     Allen Iverson       PHI\n",
       "1  Shaquille O'NealLAL  Shaquille O'Neal       LAL\n",
       "2       Paul PierceBOS       Paul Pierce       BOS\n",
       "3     Tracy McGradyORL     Tracy McGrady       ORL\n",
       "4         Tim DuncanSA        Tim Duncan        SA\n",
       "5       Kobe BryantLAL       Kobe Bryant       LAL\n",
       "6      Vince CarterTOR      Vince Carter       TOR\n",
       "7      Chris WebberSAC      Chris Webber       SAC\n",
       "8     Dirk NowitzkiDAL     Dirk Nowitzki       DAL\n",
       "9    Michael JordanWSH    Michael Jordan       WSH"
      ]
     },
     "execution_count": 3,
     "metadata": {},
     "output_type": "execute_result"
    }
   ],
   "source": [
    "df['team_name'] = df['Name'].str.extract(r'([A-Z]{2,3})$', expand=False)\n",
    "df['player_name'] = df['Name'].str.replace(r'([A-Z]{2,3})$', '', regex=True).str.strip()\n",
    "df[['Name', 'player_name', 'team_name']].head(10)\n"
   ]
  },
  {
   "cell_type": "markdown",
   "metadata": {},
   "source": [
    "## Step 2B: Create unique player_id for each player\n",
    "\n",
    "To track players across seasons, we assign each unique `player_name` a consistent `player_id`.  \n",
    "This ID stays the same no matter which season or team the player is in.  \n",
    "It helps with merging, filtering, and modeling later on.\n"
   ]
  },
  {
   "cell_type": "code",
   "execution_count": 5,
   "metadata": {},
   "outputs": [],
   "source": [
    "# Create a unique player ID for each player name\n",
    "df['player_id'] = df['player_name'].astype('category').cat.codes\n"
   ]
  },
  {
   "cell_type": "markdown",
   "metadata": {},
   "source": [
    "## Step 2C: Clean up player_name to fix suffix issues\n",
    "\n",
    "Some player names include extra info like \"DEN/\", \"NY/\", or stray letters that came from inconsistent scraping.  \n",
    "We clean these from the `player_name` column using a regex pattern.  \n",
    "After cleaning, we **reassign the `player_id`s** so each player has one consistent ID across all rows.\n"
   ]
  },
  {
   "cell_type": "code",
   "execution_count": 7,
   "metadata": {},
   "outputs": [],
   "source": [
    "df['player_name'] = df['player_name'].str.replace(r'[A-Z]{2,3}/?$', '', regex=True).str.strip()\n",
    "df['player_id'] = df['player_name'].astype('category').cat.codes\n"
   ]
  },
  {
   "cell_type": "code",
   "execution_count": 8,
   "metadata": {},
   "outputs": [
    {
     "data": {
      "text/html": [
       "<div>\n",
       "<style scoped>\n",
       "    .dataframe tbody tr th:only-of-type {\n",
       "        vertical-align: middle;\n",
       "    }\n",
       "\n",
       "    .dataframe tbody tr th {\n",
       "        vertical-align: top;\n",
       "    }\n",
       "\n",
       "    .dataframe thead th {\n",
       "        text-align: right;\n",
       "    }\n",
       "</style>\n",
       "<table border=\"1\" class=\"dataframe\">\n",
       "  <thead>\n",
       "    <tr style=\"text-align: right;\">\n",
       "      <th></th>\n",
       "      <th>player_name</th>\n",
       "      <th>player_id</th>\n",
       "    </tr>\n",
       "  </thead>\n",
       "  <tbody>\n",
       "    <tr>\n",
       "      <th>421</th>\n",
       "      <td>Aaron Brooks</td>\n",
       "      <td>0</td>\n",
       "    </tr>\n",
       "    <tr>\n",
       "      <th>842</th>\n",
       "      <td>Aaron Gordon</td>\n",
       "      <td>1</td>\n",
       "    </tr>\n",
       "    <tr>\n",
       "      <th>192</th>\n",
       "      <td>Al Harrington</td>\n",
       "      <td>2</td>\n",
       "    </tr>\n",
       "    <tr>\n",
       "      <th>580</th>\n",
       "      <td>Al Horford</td>\n",
       "      <td>3</td>\n",
       "    </tr>\n",
       "    <tr>\n",
       "      <th>321</th>\n",
       "      <td>Al Jefferson</td>\n",
       "      <td>4</td>\n",
       "    </tr>\n",
       "    <tr>\n",
       "      <th>477</th>\n",
       "      <td>Al JeffersonU</td>\n",
       "      <td>5</td>\n",
       "    </tr>\n",
       "    <tr>\n",
       "      <th>25</th>\n",
       "      <td>Allan Houston</td>\n",
       "      <td>6</td>\n",
       "    </tr>\n",
       "    <tr>\n",
       "      <th>0</th>\n",
       "      <td>Allen Iverson</td>\n",
       "      <td>7</td>\n",
       "    </tr>\n",
       "    <tr>\n",
       "      <th>47</th>\n",
       "      <td>Alonzo Mourning</td>\n",
       "      <td>8</td>\n",
       "    </tr>\n",
       "    <tr>\n",
       "      <th>1131</th>\n",
       "      <td>Alperen Sengun</td>\n",
       "      <td>9</td>\n",
       "    </tr>\n",
       "    <tr>\n",
       "      <th>117</th>\n",
       "      <td>Amar'e Stoudemire</td>\n",
       "      <td>10</td>\n",
       "    </tr>\n",
       "    <tr>\n",
       "      <th>491</th>\n",
       "      <td>Andray Blatche</td>\n",
       "      <td>11</td>\n",
       "    </tr>\n",
       "    <tr>\n",
       "      <th>749</th>\n",
       "      <td>Andre Drummond</td>\n",
       "      <td>12</td>\n",
       "    </tr>\n",
       "    <tr>\n",
       "      <th>288</th>\n",
       "      <td>Andre Iguodala</td>\n",
       "      <td>13</td>\n",
       "    </tr>\n",
       "    <tr>\n",
       "      <th>46</th>\n",
       "      <td>Andre Miller</td>\n",
       "      <td>14</td>\n",
       "    </tr>\n",
       "  </tbody>\n",
       "</table>\n",
       "</div>"
      ],
      "text/plain": [
       "            player_name  player_id\n",
       "421        Aaron Brooks          0\n",
       "842        Aaron Gordon          1\n",
       "192       Al Harrington          2\n",
       "580          Al Horford          3\n",
       "321        Al Jefferson          4\n",
       "477       Al JeffersonU          5\n",
       "25        Allan Houston          6\n",
       "0         Allen Iverson          7\n",
       "47      Alonzo Mourning          8\n",
       "1131     Alperen Sengun          9\n",
       "117   Amar'e Stoudemire         10\n",
       "491      Andray Blatche         11\n",
       "749      Andre Drummond         12\n",
       "288      Andre Iguodala         13\n",
       "46         Andre Miller         14"
      ]
     },
     "execution_count": 8,
     "metadata": {},
     "output_type": "execute_result"
    }
   ],
   "source": [
    "df[['player_name', 'player_id']].drop_duplicates().sort_values('player_id').head(15)\n"
   ]
  },
  {
   "cell_type": "markdown",
   "metadata": {},
   "source": [
    "## 🔐 Step 1: Save `player_id` mapping to SQLite and CSV\n",
    "\n",
    "We'll store the cleaned `player_id` and `player_name` pairs for future merging.  \n",
    "Primary method: save to SQLite for centralized access.  \n",
    "Backup: optional CSV export for easier viewing/debugging.\n"
   ]
  },
  {
   "cell_type": "code",
   "execution_count": 9,
   "metadata": {},
   "outputs": [
    {
     "name": "stdout",
     "output_type": "stream",
     "text": [
      "✅ Saved player_id_map to SQLite!\n"
     ]
    }
   ],
   "source": [
    "import sqlite3\n",
    "\n",
    "# Create mapping table\n",
    "player_map = df[['player_id', 'player_name']].drop_duplicates().sort_values('player_id')\n",
    "\n",
    "# Save to SQLite\n",
    "conn = sqlite3.connect('../data/sqlite/nba_mvp.db')\n",
    "player_map.to_sql('player_id_map', conn, if_exists='replace', index=False)\n",
    "conn.close()\n",
    "\n",
    "print(\"✅ Saved player_id_map to SQLite!\")\n"
   ]
  },
  {
   "cell_type": "markdown",
   "metadata": {},
   "source": [
    "### 🏆 Add Team Win Percentage and Rank\n",
    "We will calculate each NBA team's win percentage and rank per season using game data, then merge it into the player dataset as new features: `team_win_pct` and `team_rank`.\n"
   ]
  },
  {
   "cell_type": "code",
   "execution_count": 10,
   "metadata": {},
   "outputs": [],
   "source": [
    "# Example: Mock team records per season\n",
    "team_records = pd.DataFrame({\n",
    "    'season': [2002, 2002, 2002, 2002],\n",
    "    'team_name': ['PHI', 'LAL', 'SAC', 'DAL'],\n",
    "    'wins': [43, 58, 61, 57],\n",
    "    'losses': [39, 24, 21, 25]\n",
    "})\n",
    "\n",
    "# Step 1: Calculate win percentage\n",
    "team_records['team_win_pct'] = team_records['wins'] / (team_records['wins'] + team_records['losses'])\n",
    "\n",
    "# Step 2: Rank teams by win percentage (per season)\n",
    "team_records['team_rank'] = team_records.groupby('season')['team_win_pct'].rank(ascending=False, method='dense')\n",
    "\n",
    "# Step 3: Merge with player DataFrame\n",
    "df = df.merge(team_records[['season', 'team_name', 'team_win_pct', 'team_rank']], on=['season', 'team_name'], how='left')\n"
   ]
  },
  {
   "cell_type": "markdown",
   "metadata": {},
   "source": [
    "## 💾 Save Engineered Features to SQLite\n",
    "\n",
    "We save our updated DataFrame with added features (e.g., player_id, team_name, etc.) to a new table called `engineered_features`. This allows future steps (model training, evaluation) to use clean and enriched data directly from the database.\n"
   ]
  },
  {
   "cell_type": "code",
   "execution_count": 11,
   "metadata": {},
   "outputs": [
    {
     "name": "stdout",
     "output_type": "stream",
     "text": [
      "✅ Saved engineered_features to SQLite!\n"
     ]
    }
   ],
   "source": [
    "import sqlite3\n",
    "\n",
    "# Connect to the same database file\n",
    "conn = sqlite3.connect(\"../data/sqlite/nba_mvp.db\")\n",
    "\n",
    "# Save DataFrame to new table\n",
    "df.to_sql(\"engineered_features\", conn, if_exists=\"replace\", index=False)\n",
    "\n",
    "conn.close()\n",
    "\n",
    "print(\"✅ Saved engineered_features to SQLite!\")\n"
   ]
  },
  {
   "cell_type": "markdown",
   "metadata": {},
   "source": [
    "### 🔍 Check for Existing Tables in SQLite\n",
    "This checks what data already exists in our database, so we don't duplicate work.\n"
   ]
  },
  {
   "cell_type": "code",
   "execution_count": 12,
   "metadata": {},
   "outputs": [
    {
     "name": "stdout",
     "output_type": "stream",
     "text": [
      "📁 player_season_stats\n",
      "📁 player_id_map\n",
      "📁 engineered_features\n"
     ]
    }
   ],
   "source": [
    "import sqlite3\n",
    "\n",
    "# Connect to the database\n",
    "conn = sqlite3.connect(\"../data/sqlite/nba_mvp.db\")\n",
    "cursor = conn.cursor()\n",
    "\n",
    "# Show all table names\n",
    "cursor.execute(\"SELECT name FROM sqlite_master WHERE type='table';\")\n",
    "tables = cursor.fetchall()\n",
    "\n",
    "# Print each table name\n",
    "for table in tables:\n",
    "    print(\"📁\", table[0])\n",
    "\n",
    "conn.close()\n"
   ]
  },
  {
   "cell_type": "code",
   "execution_count": 14,
   "metadata": {},
   "outputs": [
    {
     "data": {
      "text/html": [
       "<div>\n",
       "<style scoped>\n",
       "    .dataframe tbody tr th:only-of-type {\n",
       "        vertical-align: middle;\n",
       "    }\n",
       "\n",
       "    .dataframe tbody tr th {\n",
       "        vertical-align: top;\n",
       "    }\n",
       "\n",
       "    .dataframe thead th {\n",
       "        text-align: right;\n",
       "    }\n",
       "</style>\n",
       "<table border=\"1\" class=\"dataframe\">\n",
       "  <thead>\n",
       "    <tr style=\"text-align: right;\">\n",
       "      <th></th>\n",
       "      <th>name</th>\n",
       "    </tr>\n",
       "  </thead>\n",
       "  <tbody>\n",
       "    <tr>\n",
       "      <th>0</th>\n",
       "      <td>player_season_stats</td>\n",
       "    </tr>\n",
       "    <tr>\n",
       "      <th>1</th>\n",
       "      <td>player_id_map</td>\n",
       "    </tr>\n",
       "    <tr>\n",
       "      <th>2</th>\n",
       "      <td>engineered_features</td>\n",
       "    </tr>\n",
       "  </tbody>\n",
       "</table>\n",
       "</div>"
      ],
      "text/plain": [
       "                  name\n",
       "0  player_season_stats\n",
       "1        player_id_map\n",
       "2  engineered_features"
      ]
     },
     "execution_count": 14,
     "metadata": {},
     "output_type": "execute_result"
    }
   ],
   "source": [
    "import sqlite3\n",
    "import pandas as pd\n",
    "\n",
    "# Connect to your SQLite database\n",
    "conn = sqlite3.connect(\"../data/sqlite/nba_mvp.db\")\n",
    "\n",
    "# Show all existing table names\n",
    "query = \"SELECT name FROM sqlite_master WHERE type='table';\"\n",
    "tables_df = pd.read_sql(query, conn)\n",
    "conn.close()\n",
    "\n",
    "tables_df\n"
   ]
  },
  {
   "cell_type": "markdown",
   "metadata": {},
   "source": [
    "## 🧩 Step 1: Load Data from SQLite\n",
    "\n",
    "We begin by loading the two relevant tables from our SQLite database:\n",
    "- `player_season_stats`: contains ESPN player stats from 2002–2025.\n",
    "- `engineered_features`: our current working feature set for MVP prediction.\n",
    "\n",
    "This allows us to later merge these datasets based on player name and season.\n"
   ]
  },
  {
   "cell_type": "code",
   "execution_count": 15,
   "metadata": {},
   "outputs": [
    {
     "name": "stdout",
     "output_type": "stream",
     "text": [
      "📊 Loaded player stats: (1150, 23)\n",
      "📊 Loaded existing features: (1150, 28)\n"
     ]
    }
   ],
   "source": [
    "import sqlite3\n",
    "import pandas as pd\n",
    "\n",
    "# Load from database\n",
    "conn = sqlite3.connect(\"../data/sqlite/nba_mvp.db\")\n",
    "\n",
    "player_stats = pd.read_sql(\"SELECT * FROM player_season_stats\", conn)\n",
    "engineered_features = pd.read_sql(\"SELECT * FROM engineered_features\", conn)\n",
    "\n",
    "conn.close()\n",
    "\n",
    "print(\"📊 Loaded player stats:\", player_stats.shape)\n",
    "print(\"📊 Loaded existing features:\", engineered_features.shape)\n"
   ]
  },
  {
   "cell_type": "markdown",
   "metadata": {},
   "source": [
    "## 🧩 Step 2: Inspect Column Names\n",
    "\n",
    "We need to verify that both tables share common columns — specifically `Name` and `season` — which we’ll use as keys when merging.\n",
    "\n",
    "This ensures that we’re aligning the stats with the correct player and year in the feature set.\n"
   ]
  },
  {
   "cell_type": "code",
   "execution_count": 16,
   "metadata": {},
   "outputs": [
    {
     "name": "stdout",
     "output_type": "stream",
     "text": [
      "Index(['RK', 'Name', 'POS', 'GP', 'MIN', 'PTS', 'FGM', 'FGA', 'FG%', '3PM',\n",
      "       '3PA', '3P%', 'FTM', 'FTA', 'FT%', 'REB', 'AST', 'STL', 'BLK', 'TO',\n",
      "       'DD2', 'TD3', 'season'],\n",
      "      dtype='object')\n",
      "Index(['RK', 'Name', 'POS', 'GP', 'MIN', 'PTS', 'FGM', 'FGA', 'FG%', '3PM',\n",
      "       '3PA', '3P%', 'FTM', 'FTA', 'FT%', 'REB', 'AST', 'STL', 'BLK', 'TO',\n",
      "       'DD2', 'TD3', 'season', 'team_name', 'player_name', 'player_id',\n",
      "       'team_win_pct', 'team_rank'],\n",
      "      dtype='object')\n"
     ]
    }
   ],
   "source": [
    "print(player_stats.columns)\n",
    "print(engineered_features.columns)\n"
   ]
  },
  {
   "cell_type": "markdown",
   "metadata": {},
   "source": [
    "## 🧩 Step 3: Clean & Merge Tables\n",
    "\n",
    "Now we’ll clean the `Name` columns and merge `player_season_stats` with `engineered_features` using the common keys:\n",
    "- `Name` (from ESPN player stats)\n",
    "- `season` (shared across both)\n",
    "\n",
    "We'll standardize the `Name` field formatting to avoid mismatches (e.g., trimming whitespace), then join the tables to produce a single enriched dataset.\n"
   ]
  },
  {
   "cell_type": "code",
   "execution_count": 17,
   "metadata": {},
   "outputs": [
    {
     "name": "stdout",
     "output_type": "stream",
     "text": [
      "✅ Merged shape: (1150, 49)\n",
      "                  Name  season team_name  team_win_pct  team_rank\n",
      "0     Allen IversonPHI    2002       PHI      0.524390        4.0\n",
      "1  Shaquille O'NealLAL    2002       LAL      0.707317        2.0\n",
      "2       Paul PierceBOS    2002       BOS           NaN        NaN\n",
      "3     Tracy McGradyORL    2002       ORL           NaN        NaN\n",
      "4         Tim DuncanSA    2002        SA           NaN        NaN\n",
      "📦 Merged data saved as 'final_player_data'\n"
     ]
    }
   ],
   "source": [
    "import sqlite3\n",
    "import pandas as pd\n",
    "\n",
    "# Connect to DB and load tables\n",
    "conn = sqlite3.connect(\"../data/sqlite/nba_mvp.db\")\n",
    "player_stats = pd.read_sql(\"SELECT * FROM player_season_stats\", conn)\n",
    "features = pd.read_sql(\"SELECT * FROM engineered_features\", conn)\n",
    "\n",
    "# Clean up player names for both tables\n",
    "player_stats[\"Name\"] = player_stats[\"Name\"].str.strip()\n",
    "features[\"Name\"] = features[\"Name\"].str.strip()\n",
    "\n",
    "# Merge on Name + season\n",
    "merged = pd.merge(player_stats, features, on=[\"Name\", \"season\"], how=\"inner\")\n",
    "\n",
    "# Check result\n",
    "print(\"✅ Merged shape:\", merged.shape)\n",
    "print(merged[[\"Name\", \"season\", \"team_name\", \"team_win_pct\", \"team_rank\"]].head())\n",
    "\n",
    "# (Optional) Save to new table in SQLite\n",
    "merged.to_sql(\"final_player_data\", conn, if_exists=\"replace\", index=False)\n",
    "conn.close()\n",
    "print(\"📦 Merged data saved as 'final_player_data'\")\n"
   ]
  }
 ],
 "metadata": {
  "kernelspec": {
   "display_name": ".venv",
   "language": "python",
   "name": "python3"
  },
  "language_info": {
   "codemirror_mode": {
    "name": "ipython",
    "version": 3
   },
   "file_extension": ".py",
   "mimetype": "text/x-python",
   "name": "python",
   "nbconvert_exporter": "python",
   "pygments_lexer": "ipython3",
   "version": "3.12.7"
  }
 },
 "nbformat": 4,
 "nbformat_minor": 2
}
