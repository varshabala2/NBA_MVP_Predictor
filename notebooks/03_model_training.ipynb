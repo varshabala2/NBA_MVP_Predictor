{
 "cells": [
  {
   "cell_type": "code",
   "execution_count": 2,
   "id": "a0c1434a",
   "metadata": {},
   "outputs": [
    {
     "name": "stdout",
     "output_type": "stream",
     "text": [
      "📋 Tables in database:\n",
      "                  name\n",
      "0  player_season_stats\n",
      "\n",
      "🧾 Table: player_season_stats\n",
      "   ➤ Rows: 1150\n",
      "   ➤ Columns: 23\n",
      "   ➤ Column names: ['RK', 'Name', 'POS', 'GP', 'MIN', 'PTS', 'FGM', 'FGA', 'FG%', '3PM', '3PA', '3P%', 'FTM', 'FTA', 'FT%', 'REB', 'AST', 'STL', 'BLK', 'TO', 'DD2', 'TD3', 'season']\n",
      "🧮 Number of tables in the database: 1\n"
     ]
    }
   ],
   "source": [
    "import sqlite3\n",
    "import pandas as pd\n",
    "\n",
    "# Connect to SQLite DB\n",
    "conn = sqlite3.connect(\"../data/sqlite/nba_mvp.db\")\n",
    "\n",
    "# ---------------------------\n",
    "# 1. List all tables\n",
    "# ---------------------------\n",
    "print(\"📋 Tables in database:\")\n",
    "tables = pd.read_sql(\n",
    "    \"SELECT name FROM sqlite_master WHERE type='table';\", conn\n",
    ")\n",
    "print(tables)\n",
    "\n",
    "# ---------------------------\n",
    "# 2. View table row/column counts\n",
    "# ---------------------------\n",
    "def get_table_info(table_name):\n",
    "    df = pd.read_sql(f\"SELECT * FROM {table_name} LIMIT 5;\", conn)\n",
    "    row_count = pd.read_sql(f\"SELECT COUNT(*) as rows FROM {table_name};\", conn).iloc[0][\"rows\"]\n",
    "    print(f\"\\n🧾 Table: {table_name}\")\n",
    "    print(f\"   ➤ Rows: {row_count}\")\n",
    "    print(f\"   ➤ Columns: {len(df.columns)}\")\n",
    "    print(f\"   ➤ Column names: {list(df.columns)}\")\n",
    "\n",
    "# Inspect key tables\n",
    "for t in tables[\"name\"]:\n",
    "    get_table_info(t)\n",
    "\n",
    "table_count = pd.read_sql(\"SELECT COUNT(*) as count FROM sqlite_master WHERE type='table';\", conn)\n",
    "print(\"🧮 Number of tables in the database:\", table_count.iloc[0]['count'])\n",
    "# Close connection\n",
    "conn.close()\n",
    "# ---------------------------\n",
    "# 3. Load & merge (optional)\n",
    "# ---------------------------\n",
    "# player_stats = pd.read_sql(\"SELECT * FROM player_season_stats\", conn)\n",
    "# features = pd.read_sql(\"SELECT * FROM engineered_features\", conn)\n",
    "\n",
    "# # Normalize player name\n",
    "# player_stats[\"Name\"] = player_stats[\"Name\"].str.strip()\n",
    "# features[\"Name\"] = features[\"Name\"].str.strip()\n",
    "\n",
    "# # Optional: show any overlapping column names before merge\n",
    "# common_cols = set(player_stats.columns).intersection(set(features.columns))\n",
    "# common_cols.discard(\"Name\")\n",
    "# common_cols.discard(\"season\")\n",
    "# if common_cols:\n",
    "#     print(\"\\n⚠️ Warning: Potential duplicate columns in merge:\", common_cols)\n",
    "\n",
    "# # Safe merge\n",
    "# # merged = pd.merge(player_stats, features, on=[\"Name\", \"season\"], how=\"inner\")\n",
    "\n",
    "# print(\"\\n✅ Merged shape:\", merged.shape)\n",
    "# print(\"📌 Sample merged rows:\")\n",
    "# print(merged[[\"Name\", \"season\"] + [col for col in merged.columns if col not in ['Name', 'season']][:3]].head())  # limit for brevity\n",
    "\n",
    "# # Save merged\n",
    "# merged.to_sql(\"final_player_data\", conn, if_\n",
    "\n",
    "\n"
   ]
  },
  {
   "cell_type": "code",
   "execution_count": null,
   "id": "afebd81b",
   "metadata": {},
   "outputs": [],
   "source": []
  }
 ],
 "metadata": {
  "kernelspec": {
   "display_name": ".venv",
   "language": "python",
   "name": "python3"
  },
  "language_info": {
   "codemirror_mode": {
    "name": "ipython",
    "version": 3
   },
   "file_extension": ".py",
   "mimetype": "text/x-python",
   "name": "python",
   "nbconvert_exporter": "python",
   "pygments_lexer": "ipython3",
   "version": "3.13.1"
  }
 },
 "nbformat": 4,
 "nbformat_minor": 5
}
