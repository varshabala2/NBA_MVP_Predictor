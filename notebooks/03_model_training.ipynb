{
 "cells": [
  {
   "cell_type": "code",
   "execution_count": 1,
   "id": "a0c1434a",
   "metadata": {},
   "outputs": [
    {
     "name": "stdout",
     "output_type": "stream",
     "text": [
      "📋 Tables in database:\n",
      "                  name\n",
      "0  player_season_stats\n",
      "1        player_id_map\n",
      "2  engineered_features\n",
      "3    final_player_data\n",
      "\n",
      "🧾 Table: player_season_stats\n",
      "   ➤ Rows: 1150\n",
      "   ➤ Columns: 23\n",
      "   ➤ Column names: ['RK', 'Name', 'POS', 'GP', 'MIN', 'PTS', 'FGM', 'FGA', 'FG%', '3PM', '3PA', '3P%', 'FTM', 'FTA', 'FT%', 'REB', 'AST', 'STL', 'BLK', 'TO', 'DD2', 'TD3', 'season']\n",
      "\n",
      "🧾 Table: player_id_map\n",
      "   ➤ Rows: 287\n",
      "   ➤ Columns: 2\n",
      "   ➤ Column names: ['player_id', 'player_name']\n",
      "\n",
      "🧾 Table: engineered_features\n",
      "   ➤ Rows: 1150\n",
      "   ➤ Columns: 28\n",
      "   ➤ Column names: ['RK', 'Name', 'POS', 'GP', 'MIN', 'PTS', 'FGM', 'FGA', 'FG%', '3PM', '3PA', '3P%', 'FTM', 'FTA', 'FT%', 'REB', 'AST', 'STL', 'BLK', 'TO', 'DD2', 'TD3', 'season', 'team_name', 'player_name', 'player_id', 'team_win_pct', 'team_rank']\n",
      "\n",
      "🧾 Table: final_player_data\n",
      "   ➤ Rows: 1150\n",
      "   ➤ Columns: 49\n",
      "   ➤ Column names: ['RK_x', 'Name', 'POS_x', 'GP_x', 'MIN_x', 'PTS_x', 'FGM_x', 'FGA_x', 'FG%_x', '3PM_x', '3PA_x', '3P%_x', 'FTM_x', 'FTA_x', 'FT%_x', 'REB_x', 'AST_x', 'STL_x', 'BLK_x', 'TO_x', 'DD2_x', 'TD3_x', 'season', 'RK_y', 'POS_y', 'GP_y', 'MIN_y', 'PTS_y', 'FGM_y', 'FGA_y', 'FG%_y', '3PM_y', '3PA_y', '3P%_y', 'FTM_y', 'FTA_y', 'FT%_y', 'REB_y', 'AST_y', 'STL_y', 'BLK_y', 'TO_y', 'DD2_y', 'TD3_y', 'team_name', 'player_name', 'player_id', 'team_win_pct', 'team_rank']\n",
      "🧮 Number of tables in the database: 4\n"
     ]
    }
   ],
   "source": [
    "import sqlite3\n",
    "import pandas as pd\n",
    "\n",
    "# Connect to SQLite DB\n",
    "conn = sqlite3.connect(\"../data/sqlite/nba_mvp.db\")\n",
    "\n",
    "# ---------------------------\n",
    "# 1. List all tables\n",
    "# ---------------------------\n",
    "print(\"📋 Tables in database:\")\n",
    "tables = pd.read_sql(\n",
    "    \"SELECT name FROM sqlite_master WHERE type='table';\", conn\n",
    ")\n",
    "print(tables)\n",
    "\n",
    "# ---------------------------\n",
    "# 2. View table row/column counts\n",
    "# ---------------------------\n",
    "def get_table_info(table_name):\n",
    "    df = pd.read_sql(f\"SELECT * FROM {table_name} LIMIT 5;\", conn)\n",
    "    row_count = pd.read_sql(f\"SELECT COUNT(*) as rows FROM {table_name};\", conn).iloc[0][\"rows\"]\n",
    "    print(f\"\\n🧾 Table: {table_name}\")\n",
    "    print(f\"   ➤ Rows: {row_count}\")\n",
    "    print(f\"   ➤ Columns: {len(df.columns)}\")\n",
    "    print(f\"   ➤ Column names: {list(df.columns)}\")\n",
    "\n",
    "# Inspect key tables\n",
    "for t in tables[\"name\"]:\n",
    "    get_table_info(t)\n",
    "\n",
    "table_count = pd.read_sql(\"SELECT COUNT(*) as count FROM sqlite_master WHERE type='table';\", conn)\n",
    "print(\"🧮 Number of tables in the database:\", table_count.iloc[0]['count'])\n",
    "# Close connection\n",
    "conn.close()\n",
    "# ---------------------------\n",
    "# 3. Load & merge (optional)\n",
    "# ---------------------------\n",
    "# player_stats = pd.read_sql(\"SELECT * FROM player_season_stats\", conn)\n",
    "# features = pd.read_sql(\"SELECT * FROM engineered_features\", conn)\n",
    "\n",
    "# # Normalize player name\n",
    "# player_stats[\"Name\"] = player_stats[\"Name\"].str.strip()\n",
    "# features[\"Name\"] = features[\"Name\"].str.strip()\n",
    "\n",
    "# # Optional: show any overlapping column names before merge\n",
    "# common_cols = set(player_stats.columns).intersection(set(features.columns))\n",
    "# common_cols.discard(\"Name\")\n",
    "# common_cols.discard(\"season\")\n",
    "# if common_cols:\n",
    "#     print(\"\\n⚠️ Warning: Potential duplicate columns in merge:\", common_cols)\n",
    "\n",
    "# # Safe merge\n",
    "# # merged = pd.merge(player_stats, features, on=[\"Name\", \"season\"], how=\"inner\")\n",
    "\n",
    "# print(\"\\n✅ Merged shape:\", merged.shape)\n",
    "# print(\"📌 Sample merged rows:\")\n",
    "# print(merged[[\"Name\", \"season\"] + [col for col in merged.columns if col not in ['Name', 'season']][:3]].head())  # limit for brevity\n",
    "\n",
    "# # Save merged\n",
    "# merged.to_sql(\"final_player_data\", conn, if_\n",
    "\n",
    "\n"
   ]
  },
  {
   "cell_type": "code",
   "execution_count": null,
   "id": "afebd81b",
   "metadata": {},
   "outputs": [
    {
     "name": "stdout",
     "output_type": "stream",
     "text": [
      "['RK_x', 'Name', 'POS_x', 'GP_x', 'MIN_x', 'PTS_x', 'FGM_x', 'FGA_x', 'FG%_x', '3PM_x', '3PA_x', '3P%_x', 'FTM_x', 'FTA_x', 'FT%_x', 'REB_x', 'AST_x', 'STL_x', 'BLK_x', 'TO_x', 'DD2_x', 'TD3_x', 'season', 'RK_y', 'POS_y', 'GP_y', 'MIN_y', 'PTS_y', 'FGM_y', 'FGA_y', 'FG%_y', '3PM_y', '3PA_y', '3P%_y', 'FTM_y', 'FTA_y', 'FT%_y', 'REB_y', 'AST_y', 'STL_y', 'BLK_y', 'TO_y', 'DD2_y', 'TD3_y', 'team_name', 'player_name', 'player_id', 'team_win_pct', 'team_rank']\n"
     ]
    }
   ],
   "source": [
    "import sqlite3\n",
    "\n",
    "# Connect to the database\n",
    "conn = sqlite3.connect(\"../data/sqlite/nba_mvp.db\")\n",
    "cursor = conn.cursor()\n",
    "\n",
    "# Query column names from final_player_data\n",
    "cursor.execute(\"PRAGMA table_info(final_player_data);\")\n",
    "columns_info = cursor.fetchall()\n",
    "\n",
    "# Extract just the column names into a list\n",
    "column_names = [col[1] for col in columns_info]\n",
    " \n",
    "# Print the result\n",
    "print(column_names)\n",
    "\n",
    "# Close connection\n",
    "conn.close()\n"
   ]
  },
  {
   "cell_type": "code",
   "execution_count": 4,
   "id": "f3ce0fd5",
   "metadata": {},
   "outputs": [
    {
     "name": "stdout",
     "output_type": "stream",
     "text": [
      "  RK_x                 Name POS_x GP_x MIN_x PTS_x FGM_x FGA_x FG%_x 3PM_x  \\\n",
      "0    -     Allen IversonPHI    SG   60  43.7  31.4  11.1  27.8  39.8   1.3   \n",
      "1    -  Shaquille O'NealLAL     C   67  36.1  27.2  10.6  18.3  57.9   0.0   \n",
      "2    -       Paul PierceBOS    SF   82  40.3  26.1   8.6  19.5  44.2   2.6   \n",
      "3    -     Tracy McGradyORL    SG   76  38.3  25.6   9.4  20.9  45.1   1.4   \n",
      "4    -         Tim DuncanSA     C   82  40.6  25.5   9.3  18.3  50.8   0.0   \n",
      "\n",
      "   ... STL_y BLK_y TO_y DD2_y TD3_y team_name       player_name player_id  \\\n",
      "0  ...   2.8   0.2  4.0     4     1       PHI     Allen Iverson         7   \n",
      "1  ...   0.6   2.0  2.6    40     0       LAL  Shaquille O'Neal       253   \n",
      "2  ...   1.9   1.0  2.9    17     0       BOS       Paul Pierce       234   \n",
      "3  ...   1.6   1.0  2.5    24     1       ORL     Tracy McGrady       270   \n",
      "4  ...   0.7   2.5  3.2    67     0        SA        Tim Duncan       265   \n",
      "\n",
      "  team_win_pct team_rank  \n",
      "0     0.524390       4.0  \n",
      "1     0.707317       2.0  \n",
      "2          NaN       NaN  \n",
      "3          NaN       NaN  \n",
      "4          NaN       NaN  \n",
      "\n",
      "[5 rows x 49 columns]\n"
     ]
    }
   ],
   "source": [
    "import sqlite3\n",
    "import pandas as pd\n",
    "\n",
    "# Connect to the database\n",
    "conn = sqlite3.connect(\"../data/sqlite/nba_mvp.db\")\n",
    "\n",
    "# Read a few rows from the table\n",
    "df = pd.read_sql(\"SELECT * FROM final_player_data LIMIT 5;\", conn)\n",
    "df.to_csv(\"../data/final_player_data.csv\", index=False)\n",
    "\n",
    "\n",
    "# Display the result\n",
    "print(df)\n",
    "\n",
    "# Close the connection\n",
    "conn.close()\n"
   ]
  },
  {
   "cell_type": "code",
   "execution_count": null,
   "id": "5cb8ee33",
   "metadata": {},
   "outputs": [
    {
     "name": "stdout",
     "output_type": "stream",
     "text": [
      "✅ HTML table saved to final_player_data.html\n"
     ]
    }
   ],
   "source": [
    "import pandas as pd\n",
    "\n",
    "# Load CSV\n",
    "df = pd.read_csv(\"../data/final_player_data.csv\")\n",
    "\n",
    "# Convert to HTML and save\n",
    "html_table = df.to_html(index=False)\n",
    "with open(\"../data/cleaned_final_player_data.html\", \"w\", encoding=\"utf-8\") as f:\n",
    "    f.write(html_table)\n",
    "\n",
    "print(\"✅ HTML table saved to final_player_data.html\")\n"
   ]
  },
  {
   "cell_type": "code",
   "execution_count": null,
   "id": "d793fafd",
   "metadata": {},
   "outputs": [],
   "source": []
  }
 ],
 "metadata": {
  "kernelspec": {
   "display_name": ".venv",
   "language": "python",
   "name": "python3"
  },
  "language_info": {
   "codemirror_mode": {
    "name": "ipython",
    "version": 3
   },
   "file_extension": ".py",
   "mimetype": "text/x-python",
   "name": "python",
   "nbconvert_exporter": "python",
   "pygments_lexer": "ipython3",
   "version": "3.13.1"
  }
 },
 "nbformat": 4,
 "nbformat_minor": 5
}
