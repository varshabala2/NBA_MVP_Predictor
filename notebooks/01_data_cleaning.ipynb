{
 "cells": [
  {
   "cell_type": "markdown",
   "id": "a18c1fc8",
   "metadata": {
    "vscode": {
     "languageId": "plaintext"
    }
   },
   "source": [
    "Please leave this here and change the time "
   ]
  },
  {
   "cell_type": "code",
   "execution_count": 2,
   "id": "2c739b79",
   "metadata": {},
   "outputs": [
    {
     "name": "stdout",
     "output_type": "stream",
     "text": [
      "Hello World!\n"
     ]
    }
   ],
   "source": [
    "print(\"Hello World!\")"
   ]
  },
  {
   "cell_type": "code",
   "execution_count": 18,
   "id": "7461c515",
   "metadata": {},
   "outputs": [
    {
     "name": "stdout",
     "output_type": "stream",
     "text": [
      "✅ Scraped 2002\n",
      "✅ Scraped 2003\n",
      "✅ Scraped 2004\n",
      "✅ Scraped 2005\n",
      "✅ Scraped 2006\n",
      "✅ Scraped 2007\n",
      "✅ Scraped 2008\n",
      "✅ Scraped 2009\n",
      "✅ Scraped 2010\n",
      "✅ Scraped 2011\n",
      "✅ Scraped 2012\n",
      "✅ Scraped 2013\n",
      "✅ Scraped 2014\n",
      "✅ Scraped 2015\n",
      "✅ Scraped 2016\n",
      "✅ Scraped 2017\n",
      "✅ Scraped 2018\n",
      "✅ Scraped 2019\n",
      "✅ Scraped 2020\n",
      "✅ Scraped 2021\n",
      "✅ Scraped 2022\n",
      "✅ Scraped 2023\n",
      "✅ Scraped 2024\n",
      "🏀 All seasons saved to SQLite successfully!\n"
     ]
    }
   ],
   "source": [
    "import sqlite3\n",
    "from selenium import webdriver\n",
    "from selenium.webdriver.chrome.service import Service\n",
    "from webdriver_manager.chrome import ChromeDriverManager\n",
    "from bs4 import BeautifulSoup\n",
    "import pandas as pd\n",
    "import time\n",
    "\n",
    "# Set up Selenium WebDriver\n",
    "options = webdriver.ChromeOptions()\n",
    "options.add_argument(\"--headless\")\n",
    "driver = webdriver.Chrome(service=Service(ChromeDriverManager().install()), options=options)\n",
    "\n",
    "# Create a single DataFrame to store all seasons\n",
    "all_data = pd.DataFrame()\n",
    "\n",
    "for season in range(2002, 2025):\n",
    "    url = f\"https://www.espn.com/nba/stats/player/_/season/{season}/seasontype/2\"\n",
    "    driver.get(url)\n",
    "    time.sleep(4)  # Allow JS to render\n",
    "\n",
    "    soup = BeautifulSoup(driver.page_source, \"html.parser\")\n",
    "\n",
    "    # Grab both stat tables\n",
    "    tables = soup.find_all(\"table\")\n",
    "    if len(tables) < 2:\n",
    "        print(f\"⚠️ Skipping {season}: Tables not found\")\n",
    "        continue\n",
    "\n",
    "    left_table = tables[0]\n",
    "    right_table = tables[1]\n",
    "\n",
    "    # Extract headers and rows\n",
    "    left_headers = [th.text.strip() for th in left_table.find_all(\"th\")]\n",
    "    right_headers = [th.text.strip() for th in right_table.find_all(\"th\")]\n",
    "\n",
    "    left_rows = [[td.text.strip() for td in tr.find_all(\"td\")] for tr in left_table.find_all(\"tr\")[1:]]\n",
    "    right_rows = [[td.text.strip() for td in tr.find_all(\"td\")] for tr in right_table.find_all(\"tr\")[1:]]\n",
    "\n",
    "    # Skip if row mismatch\n",
    "    if len(left_rows) != len(right_rows):\n",
    "        print(f\"⚠️ Skipping {season}: Row mismatch\")\n",
    "        continue\n",
    "\n",
    "    # Combine and append\n",
    "    combined = [l + r for l, r in zip(left_rows, right_rows)]\n",
    "    df = pd.DataFrame(combined, columns=left_headers + right_headers)\n",
    "    df[\"season\"] = season\n",
    "    all_data = pd.concat([all_data, df], ignore_index=True)\n",
    "    print(f\"✅ Scraped {season}\")\n",
    "\n",
    "driver.quit()\n",
    "\n",
    "# Save all seasons to SQLite\n",
    "conn = sqlite3.connect(\"../data/sqlite/nba_mvp.db\")\n",
    "all_data.to_sql(\"player_season_stats\", conn, if_exists=\"replace\", index=False)\n",
    "conn.close()\n",
    "\n",
    "print(\"🏀 All seasons saved to SQLite successfully!\")\n"
   ]
  },
  {
   "cell_type": "markdown",
   "id": "21366326",
   "metadata": {},
   "source": [
    "Single Season extraction:"
   ]
  },
  {
   "cell_type": "code",
   "execution_count": null,
   "id": "a8114924",
   "metadata": {},
   "outputs": [
    {
     "name": "stdout",
     "output_type": "stream",
     "text": [
      "  RK                        Name POS  GP   MIN   PTS   FGM   FGA   FG%  3PM  \\\n",
      "0  1  Shai Gilgeous-AlexanderOKC  PG  76  34.2  32.7  11.3  21.8  51.9  2.1   \n",
      "1  2    Giannis AntetokounmpoMIL  PF  67  34.2  30.4  11.8  19.7  60.1  0.2   \n",
      "2  3             Nikola JokicDEN   C  70  36.7  29.6  11.2  19.5  57.6  2.0   \n",
      "3  4          Anthony EdwardsMIN  SG  79  36.3  27.6   9.1  20.4  44.7  4.1   \n",
      "4  5             Jayson TatumBOS  SF  72  36.4  26.8   9.2  20.3  45.2  3.5   \n",
      "\n",
      "   ...   FTA   FT%   REB   AST  STL  BLK   TO DD2 TD3 season  \n",
      "0  ...   8.8  89.8   5.0   6.4  1.7  1.0  2.4   6   0   2025  \n",
      "1  ...  10.6  61.7  11.9   6.5  0.9  1.2  3.1  55  11   2025  \n",
      "2  ...   6.4  80.0  12.7  10.2  1.8  0.6  3.3  59  34   2025  \n",
      "3  ...   6.3  83.7   5.7   4.5  1.2  0.6  3.2   7   0   2025  \n",
      "4  ...   6.1  81.4   8.7   6.0  1.1  0.5  2.9  31   2   2025  \n",
      "\n",
      "[5 rows x 23 columns]\n",
      "✅ Full stats saved to SQLite!\n"
     ]
    }
   ],
   "source": [
    "import sqlite3\n",
    "from selenium import webdriver\n",
    "from selenium.webdriver.chrome.service import Service\n",
    "from webdriver_manager.chrome import ChromeDriverManager\n",
    "from bs4 import BeautifulSoup\n",
    "import pandas as pd\n",
    "import time\n",
    "\n",
    "# Create a single DataFrame to store all seasons\n",
    "all_data = pd.DataFrame()\n",
    "\n",
    "# Set up Selenium WebDriver\n",
    "options = webdriver.ChromeOptions()\n",
    "options.add_argument(\"--headless\")  # Run in headless mode (no GUI)\n",
    "driver = webdriver.Chrome(service=Service(ChromeDriverManager().install()), options=options)\n",
    "\n",
    "# Go to ESPN stats page\n",
    "season = 2025\n",
    "url = f\"https://www.espn.com/nba/stats/player/_/season/{season}/seasontype/2\"\n",
    "driver.get(url)\n",
    "time.sleep(5)  # wait for JS to render\n",
    "\n",
    "# Parse rendered HTML\n",
    "soup = BeautifulSoup(driver.page_source, \"html.parser\")\n",
    "driver.quit()\n",
    "\n",
    "# Get both visible tables\n",
    "tables = soup.find_all(\"table\")\n",
    "if len(tables) < 2:\n",
    "    raise Exception(\"Could not find both stat tables\")\n",
    "\n",
    "left_table = tables[0]\n",
    "right_table = tables[1]\n",
    "\n",
    "# Extract headers\n",
    "left_headers = [th.text.strip() for th in left_table.find_all(\"th\")]\n",
    "right_headers = [th.text.strip() for th in right_table.find_all(\"th\")]\n",
    "\n",
    "# Extract rows\n",
    "left_rows = [[td.text.strip() for td in tr.find_all(\"td\")] for tr in left_table.find_all(\"tr\")[1:]]\n",
    "right_rows = [[td.text.strip() for td in tr.find_all(\"td\")] for tr in right_table.find_all(\"tr\")[1:]]\n",
    "\n",
    "# Combine the two parts\n",
    "combined = []\n",
    "for lrow, rrow in zip(left_rows, right_rows):\n",
    "    combined.append(lrow + rrow)\n",
    "\n",
    "# Final DataFrame\n",
    "all_headers = left_headers + right_headers\n",
    "df = pd.DataFrame(combined, columns=all_headers)\n",
    "df[\"season\"] = season\n",
    "\n",
    "# Preview\n",
    "print(df.head())\n",
    "\n",
    "\n",
    "# Save to SQLite\n",
    "conn = sqlite3.connect(\"../data/sqlite/nba_mvp.db\")\n",
    "\n",
    "# Save or append to the player_season_stats table\n",
    "df.to_sql(\"player_season_stats\", conn, if_exists=\"replace\", index=False)\n",
    "\n",
    "conn.close()\n",
    "print(\"✅ Full stats saved to SQLite!\")\n"
   ]
  },
  {
   "cell_type": "code",
   "execution_count": null,
   "id": "f503272e",
   "metadata": {},
   "outputs": [
    {
     "name": "stdout",
     "output_type": "stream",
     "text": [
      "Exists: True\n",
      "Writable: True\n",
      "Current working directory: c:\\Users\\priya\\Documents\\GitHub\\NBA_MVP_Predictor\\notebooks\n"
     ]
    }
   ],
   "source": [
    "# import os\n",
    "\n",
    "# folder_path = \"../data/sqlite\"\n",
    "# print(\"Exists:\", os.path.exists(folder_path))\n",
    "# print(\"Writable:\", os.access(folder_path, os.W_OK))\n",
    "# print(\"Current working directory:\", os.getcwd())\n"
   ]
  },
  {
   "cell_type": "markdown",
   "id": "d0ea0388",
   "metadata": {},
   "source": [
    "This code will clear the player table (Good while populating the database, and facing errors)"
   ]
  },
  {
   "cell_type": "code",
   "execution_count": 12,
   "id": "31f43249",
   "metadata": {},
   "outputs": [
    {
     "name": "stdout",
     "output_type": "stream",
     "text": [
      "✅ Existing table dropped.\n"
     ]
    }
   ],
   "source": [
    "import sqlite3\n",
    "\n",
    "# Connect to the existing database\n",
    "conn = sqlite3.connect(\"../data/sqlite/nba_mvp.db\")\n",
    "cursor = conn.cursor()\n",
    "\n",
    "# Drop the table if it exists\n",
    "cursor.execute(\"DROP TABLE IF EXISTS player_season_stats\")\n",
    "\n",
    "conn.commit()\n",
    "conn.close()\n",
    "\n",
    "print(\"✅ Existing table dropped.\")\n"
   ]
  },
  {
   "cell_type": "markdown",
   "id": "dba8eb86",
   "metadata": {},
   "source": [
    "This code will print the first 10 rows the the player_stats table in the database"
   ]
  },
  {
   "cell_type": "code",
   "execution_count": 19,
   "id": "445bb667",
   "metadata": {},
   "outputs": [
    {
     "name": "stdout",
     "output_type": "stream",
     "text": [
      "Tables in database:\n",
      "                  name\n",
      "0  player_season_stats\n",
      "\n",
      "Sample data from table:\n",
      "  RK                 Name POS  GP   MIN   PTS   FGM   FGA   FG%  3PM  ...  \\\n",
      "0  -     Allen IversonPHI  SG  60  43.7  31.4  11.1  27.8  39.8  1.3  ...   \n",
      "1  -  Shaquille O'NealLAL   C  67  36.1  27.2  10.6  18.3  57.9  0.0  ...   \n",
      "2  -       Paul PierceBOS  SF  82  40.3  26.1   8.6  19.5  44.2  2.6  ...   \n",
      "3  -     Tracy McGradyORL  SG  76  38.3  25.6   9.4  20.9  45.1  1.4  ...   \n",
      "4  -         Tim DuncanSA   C  82  40.6  25.5   9.3  18.3  50.8  0.0  ...   \n",
      "\n",
      "    FTA   FT%   REB  AST  STL  BLK   TO DD2 TD3 season  \n",
      "0   9.8  81.2   4.5  5.5  2.8  0.2  4.0   4   1   2002  \n",
      "1  10.7  55.5  10.7  3.0  0.6  2.0  2.6  40   0   2002  \n",
      "2   7.8  80.9   6.9  3.2  1.9  1.0  2.9  17   0   2002  \n",
      "3   7.3  74.8   7.9  5.3  1.6  1.0  2.5  24   1   2002  \n",
      "4   8.5  79.9  12.7  3.7  0.7  2.5  3.2  67   0   2002  \n",
      "\n",
      "[5 rows x 23 columns]\n",
      "\n",
      "📊 Table shape: 1150 rows × 23 columns\n"
     ]
    }
   ],
   "source": [
    "import sqlite3\n",
    "import pandas as pd\n",
    "\n",
    "# Connect to the database\n",
    "conn = sqlite3.connect(\"../data/sqlite/nba_mvp.db\")\n",
    "\n",
    "# View table names\n",
    "query_tables = \"SELECT name FROM sqlite_master WHERE type='table';\"\n",
    "tables_df = pd.read_sql(query_tables, conn)\n",
    "print(\"Tables in database:\")\n",
    "print(tables_df)\n",
    "\n",
    "# Read the entire table (you can limit this if the table is huge)\n",
    "query = \"SELECT * FROM player_season_stats;\"\n",
    "df = pd.read_sql(query, conn)\n",
    "\n",
    "# Show sample\n",
    "print(\"\\nSample data from table:\")\n",
    "print(df.head())\n",
    "\n",
    "# Show shape (rows and columns)\n",
    "print(f\"\\n📊 Table shape: {df.shape[0]} rows × {df.shape[1]} columns\")\n",
    "\n",
    "conn.close()\n"
   ]
  },
  {
   "cell_type": "code",
   "execution_count": null,
   "id": "fd888462",
   "metadata": {},
   "outputs": [],
   "source": []
  }
 ],
 "metadata": {
  "kernelspec": {
   "display_name": ".venv",
   "language": "python",
   "name": "python3"
  },
  "language_info": {
   "codemirror_mode": {
    "name": "ipython",
    "version": 3
   },
   "file_extension": ".py",
   "mimetype": "text/x-python",
   "name": "python",
   "nbconvert_exporter": "python",
   "pygments_lexer": "ipython3",
   "version": "3.13.1"
  }
 },
 "nbformat": 4,
 "nbformat_minor": 5
}
