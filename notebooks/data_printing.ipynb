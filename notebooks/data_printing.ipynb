{
 "cells": [
  {
   "cell_type": "code",
   "execution_count": 1,
   "id": "758dc541",
   "metadata": {},
   "outputs": [],
   "source": [
    "import sqlite3\n",
    "import pandas as pd\n",
    "\n",
    "# Connect to DB and load tables\n",
    "conn = sqlite3.connect(\"../data/sqlite/nba_mvp.db\")\n",
    "\n",
    "cleaned_final_player_stats = pd.read_sql(\"SELECT * FROM final_player_data\", conn)\n",
    "engineering_features = pd.read_sql(\"SELECT * FROM engineered_features\", conn)\n",
    "conn.close()\n",
    "\n"
   ]
  },
  {
   "cell_type": "code",
   "execution_count": 4,
   "id": "dbd8e952",
   "metadata": {},
   "outputs": [],
   "source": [
    "cleaned_final_player_stats.to_html(\"../data/cleaned_final_player_stats.html\", index=False)\n",
    "engineering_features.to_html(\"../data/engineering_features.html\", index=False)"
   ]
  },
  {
   "cell_type": "code",
   "execution_count": 5,
   "id": "6ae8f71e",
   "metadata": {},
   "outputs": [
    {
     "name": "stdout",
     "output_type": "stream",
     "text": [
      "📋 Tables in database:\n",
      "                  name\n",
      "0  player_season_stats\n",
      "1        player_id_map\n",
      "2  engineered_features\n",
      "3             mvp_list\n",
      "4    final_player_data\n",
      "\n",
      "🧾 Table: player_season_stats\n",
      "   ➤ Rows: 1150\n",
      "   ➤ Columns: 23\n",
      "   ➤ Column names: ['RK', 'Name', 'POS', 'GP', 'MIN', 'PTS', 'FGM', 'FGA', 'FG%', '3PM', '3PA', '3P%', 'FTM', 'FTA', 'FT%', 'REB', 'AST', 'STL', 'BLK', 'TO', 'DD2', 'TD3', 'season']\n",
      "\n",
      "🧾 Table: player_id_map\n",
      "   ➤ Rows: 287\n",
      "   ➤ Columns: 2\n",
      "   ➤ Column names: ['player_id', 'player_name']\n",
      "\n",
      "🧾 Table: engineered_features\n",
      "   ➤ Rows: 1150\n",
      "   ➤ Columns: 28\n",
      "   ➤ Column names: ['RK', 'Name', 'POS', 'GP', 'MIN', 'PTS', 'FGM', 'FGA', 'FG%', '3PM', '3PA', '3P%', 'FTM', 'FTA', 'FT%', 'REB', 'AST', 'STL', 'BLK', 'TO', 'DD2', 'TD3', 'season', 'team_name', 'player_name', 'player_id', 'team_win_pct', 'team_rank']\n",
      "\n",
      "🧾 Table: mvp_list\n",
      "   ➤ Rows: 24\n",
      "   ➤ Columns: 2\n",
      "   ➤ Column names: ['Year', 'Player']\n",
      "\n",
      "🧾 Table: final_player_data\n",
      "   ➤ Rows: 1150\n",
      "   ➤ Columns: 29\n",
      "   ➤ Column names: ['RK', 'Name', 'POS', 'GP', 'MIN', 'PTS', 'FGM', 'FGA', 'FG%', '3PM', '3PA', '3P%', 'FTM', 'FTA', 'FT%', 'REB', 'AST', 'STL', 'BLK', 'TO', 'DD2', 'TD3', 'season', 'team_name', 'player_name', 'player_id', 'team_win_pct', 'team_rank', 'is_mvp']\n",
      "🧮 Number of tables in the database: 5\n"
     ]
    }
   ],
   "source": [
    "import sqlite3\n",
    "import pandas as pd\n",
    "\n",
    "# Connect to SQLite DB\n",
    "conn = sqlite3.connect(\"../data/sqlite/nba_mvp.db\")\n",
    "\n",
    "# ---------------------------\n",
    "# 1. List all tables\n",
    "# ---------------------------\n",
    "print(\"📋 Tables in database:\")\n",
    "tables = pd.read_sql(\n",
    "    \"SELECT name FROM sqlite_master WHERE type='table';\", conn\n",
    ")\n",
    "print(tables)\n",
    "\n",
    "# ---------------------------\n",
    "# 2. View table row/column counts\n",
    "# ---------------------------\n",
    "def get_table_info(table_name):\n",
    "    df = pd.read_sql(f\"SELECT * FROM {table_name} LIMIT 5;\", conn)\n",
    "    row_count = pd.read_sql(f\"SELECT COUNT(*) as rows FROM {table_name};\", conn).iloc[0][\"rows\"]\n",
    "    print(f\"\\n🧾 Table: {table_name}\")\n",
    "    print(f\"   ➤ Rows: {row_count}\")\n",
    "    print(f\"   ➤ Columns: {len(df.columns)}\")\n",
    "    print(f\"   ➤ Column names: {list(df.columns)}\")\n",
    "\n",
    "# Inspect key tables\n",
    "for t in tables[\"name\"]:\n",
    "    get_table_info(t)\n",
    "\n",
    "table_count = pd.read_sql(\"SELECT COUNT(*) as count FROM sqlite_master WHERE type='table';\", conn)\n",
    "print(\"🧮 Number of tables in the database:\", table_count.iloc[0]['count'])\n",
    "# Close connection\n",
    "conn.close()"
   ]
  },
  {
   "cell_type": "code",
   "execution_count": null,
   "id": "030deb7a",
   "metadata": {},
   "outputs": [],
   "source": []
  }
 ],
 "metadata": {
  "kernelspec": {
   "display_name": ".venv",
   "language": "python",
   "name": "python3"
  },
  "language_info": {
   "codemirror_mode": {
    "name": "ipython",
    "version": 3
   },
   "file_extension": ".py",
   "mimetype": "text/x-python",
   "name": "python",
   "nbconvert_exporter": "python",
   "pygments_lexer": "ipython3",
   "version": "3.13.1"
  }
 },
 "nbformat": 4,
 "nbformat_minor": 5
}
